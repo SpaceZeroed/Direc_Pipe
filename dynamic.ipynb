{
 "cells": [
  {
   "cell_type": "code",
   "execution_count": 139,
   "metadata": {},
   "outputs": [],
   "source": [
    "import numpy as np\n",
    "from scipy.integrate import solve_ivp,solve_bvp\n",
    "from scipy.optimize import fsolve\n",
    "import matplotlib.pyplot as plt\n",
    "import sympy as sym\n",
    "from sympy.solvers import ode\n",
    "import math"
   ]
  },
  {
   "cell_type": "code",
   "execution_count": 183,
   "metadata": {},
   "outputs": [],
   "source": [
    "N = 1000 # пространственные узлы\n",
    "M = 1000 # временные узлы\n",
    "l = 20 # длина стержня\n",
    "hx = l/N\n",
    "T = 1 # максимальное время \n",
    "ht = T/M\n",
    "x_num = np.linspace(-hx,l,N+3)\n",
    "t_num = np.linspace(0,T,M+1)\n"
   ]
  },
  {
   "cell_type": "code",
   "execution_count": 202,
   "metadata": {},
   "outputs": [
    {
     "name": "stdout",
     "output_type": "stream",
     "text": [
      "121.05891306386688\n"
     ]
    }
   ],
   "source": [
    "m = 100\n",
    "q = m * 9.8\n",
    "alpha = 0.1\n",
    "\n",
    "E = 2.06 * 10**11\n",
    "Jx = np.pi * 0.05**4 / 64 * (1 - 0.049**4 / 0.05**4)\n",
    "#Jx = 1/E\n",
    "P_cr = np.pi**2 * E * Jx / l**2\n",
    "P = 4*P_cr\n",
    "k = np.sqrt(P/(E*Jx))\n",
    "print(P_cr)"
   ]
  },
  {
   "cell_type": "code",
   "execution_count": 203,
   "metadata": {},
   "outputs": [
    {
     "data": {
      "text/plain": [
       "(1001, 1003)"
      ]
     },
     "execution_count": 203,
     "metadata": {},
     "output_type": "execute_result"
    }
   ],
   "source": [
    "y = np.zeros((M+1,N+3)) # сетка имеет два технических доп узла, слева и справа( для удобства расчётов)\n",
    "y[0,:] = 0.1*np.sin(k*x_num) # init conds\n",
    "y[1,:] = 0.1*np.sin(k*x_num) # init conds\n",
    "y[:,1] = 0 # bc conds\n",
    "y[:,N+1] = 0 # bc conds\n",
    "y.shape"
   ]
  },
  {
   "cell_type": "code",
   "execution_count": 204,
   "metadata": {},
   "outputs": [
    {
     "data": {
      "text/plain": [
       "(4906.332944834344, 2.3817150217642448e-08)"
      ]
     },
     "execution_count": 204,
     "metadata": {},
     "output_type": "execute_result"
    }
   ],
   "source": [
    "E*Jx, Jx"
   ]
  },
  {
   "cell_type": "code",
   "execution_count": 205,
   "metadata": {},
   "outputs": [
    {
     "name": "stderr",
     "output_type": "stream",
     "text": [
      "C:\\Users\\Max\\AppData\\Local\\Temp\\ipykernel_12392\\337549213.py:4: RuntimeWarning: overflow encountered in scalar multiply\n",
      "  - 2*E*Jx*(y[i-1,j+2]-4*y[i-1,j+1]+6*y[i-1,j]-4*y[i-1,j-1]+y[i-1,j-2]))*ht**2\n",
      "C:\\Users\\Max\\AppData\\Local\\Temp\\ipykernel_12392\\337549213.py:3: RuntimeWarning: overflow encountered in scalar multiply\n",
      "  y[i,j] = ((2*q*hx**4 - 2*P*(y[i-1,j+1]-2*y[i-1,j]+y[i-1,j-1])*hx**2\n",
      "C:\\Users\\Max\\AppData\\Local\\Temp\\ipykernel_12392\\337549213.py:3: RuntimeWarning: invalid value encountered in scalar subtract\n",
      "  y[i,j] = ((2*q*hx**4 - 2*P*(y[i-1,j+1]-2*y[i-1,j]+y[i-1,j-1])*hx**2\n",
      "C:\\Users\\Max\\AppData\\Local\\Temp\\ipykernel_12392\\337549213.py:4: RuntimeWarning: invalid value encountered in scalar add\n",
      "  - 2*E*Jx*(y[i-1,j+2]-4*y[i-1,j+1]+6*y[i-1,j]-4*y[i-1,j-1]+y[i-1,j-2]))*ht**2\n",
      "C:\\Users\\Max\\AppData\\Local\\Temp\\ipykernel_12392\\337549213.py:4: RuntimeWarning: invalid value encountered in scalar subtract\n",
      "  - 2*E*Jx*(y[i-1,j+2]-4*y[i-1,j+1]+6*y[i-1,j]-4*y[i-1,j-1]+y[i-1,j-2]))*ht**2\n"
     ]
    }
   ],
   "source": [
    "for i in range(2,M+1):\n",
    "    for j in range(2,N+1):\n",
    "        y[i,j] = ((2*q*hx**4 - 2*P*(y[i-1,j+1]-2*y[i-1,j]+y[i-1,j-1])*hx**2 \n",
    "                   - 2*E*Jx*(y[i-1,j+2]-4*y[i-1,j+1]+6*y[i-1,j]-4*y[i-1,j-1]+y[i-1,j-2]))*ht**2 \n",
    "                   + alpha*y[i-2,j]*ht*hx**4 + 4*hx**4*m*(y[i-1,j]-y[i-1,j-1]/2))/ (hx**4*(alpha*ht+2*m))\n",
    "        #print((2*q*hx**4 - 2*P*(y[i-1,j+1]-2*y[i-1,j]+y[i-1,j-1])*hx**2)*ht**2/ (hx**4*(alpha*ht+2*m)),end=\"  \")\n",
    "        #print(- 2*E*Jx*(y[i-1,j+2]-4*y[i-1,j+1]+6*y[i-1,j]-4*y[i-1,j-1]+y[i-1,j-2])*ht**2/ (hx**4*(alpha*ht+2*m)),end=\"  \")\n",
    "        #print(alpha*y[i-2,j]*ht*hx**4 + 4*hx**4*m*(y[i-1,j]-y[i-1,j-1]/2)/ (hx**4*(alpha*ht+2*m)),end=\"\\n\\n\")\n",
    "        if j==2:\n",
    "            y[i,0] = -y[i,j]\n",
    "        if j==N:\n",
    "            y[i,N+2] = -y[i,j]\n",
    "    #print(y[i])    \n",
    "ans = y[:,1:N+2]                         "
   ]
  },
  {
   "cell_type": "code",
   "execution_count": 206,
   "metadata": {},
   "outputs": [
    {
     "name": "stdout",
     "output_type": "stream",
     "text": [
      "-0.1937232218198191\n"
     ]
    }
   ],
   "source": [
    "print(y[2,N-1])"
   ]
  },
  {
   "cell_type": "code",
   "execution_count": 217,
   "metadata": {},
   "outputs": [
    {
     "data": {
      "text/plain": [
       "[<matplotlib.lines.Line2D at 0x2520b430b60>]"
      ]
     },
     "execution_count": 217,
     "metadata": {},
     "output_type": "execute_result"
    },
    {
     "data": {
      "image/png": "[encoded data removed]",
      "text/plain": [
       "<Figure size 640x480 with 1 Axes>"
      ]
     },
     "metadata": {},
     "output_type": "display_data"
    }
   ],
   "source": [
    "plt.plot(x_num[6:-8],ans[4,5:N-6])  "
   ]
  },
  {
   "cell_type": "code",
   "execution_count": null,
   "metadata": {},
   "outputs": [],
   "source": []
  }
 ],
 "metadata": {
  "kernelspec": {
   "display_name": "Python 3",
   "language": "python",
   "name": "python3"
  },
  "language_info": {
   "codemirror_mode": {
    "name": "ipython",
    "version": 3
   },
   "file_extension": ".py",
   "mimetype": "text/x-python",
   "name": "python",
   "nbconvert_exporter": "python",
   "pygments_lexer": "ipython3",
   "version": "3.12.3"
  },
  "orig_nbformat": 4,
  "vscode": {
   "interpreter": {
    "hash": "9e1a3590af6bf4b7dc35caea39b9432de3c9fa39940541905cb2c5ad6b204546"
   }
  }
 },
 "nbformat": 4,
 "nbformat_minor": 2
}
